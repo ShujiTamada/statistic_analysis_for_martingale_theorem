{
 "cells": [
  {
   "cell_type": "code",
   "execution_count": 144,
   "metadata": {
    "collapsed": false
   },
   "outputs": [],
   "source": [
    "import sys\n",
    "sys.path.append(\"../src\") \n",
    "sys.path.append(\"../data\") \n",
    "import SDE_class as sde\n",
    "import importlib\n",
    "importlib.reload(sde)\n",
    "import numpy as np\n",
    "from matplotlib import pyplot as plt\n",
    "%matplotlib inline\n",
    "import util as util\n",
    "importlib.reload(util)\n",
    "import math\n",
    "from scipy.stats import norm"
   ]
  },
  {
   "cell_type": "markdown",
   "metadata": {},
   "source": [
    "# 独立増分の確認\n",
    "\n",
    "$$X_t-X_s \\amalg X_s$$\n",
    "$$X_t-X_s \\sim N(0,t-s)$$"
   ]
  },
  {
   "cell_type": "code",
   "execution_count": 145,
   "metadata": {
    "collapsed": false
   },
   "outputs": [],
   "source": [
    "term=1\n",
    "step=0.01\n",
    "div=term/step\n",
    "init=np.array([0.])\n",
    "repeat_time=10000#pass本数\n",
    "S=0"
   ]
  },
  {
   "cell_type": "code",
   "execution_count": 146,
   "metadata": {
    "collapsed": true
   },
   "outputs": [],
   "source": [
    "mymodel = sde.SDE_Markov(mymat=np.array([[0.]]), myvar =np.array([[1.]]),myinit=np.array([1.]),myscale=1.,myterm=term,step_size=step)"
   ]
  },
  {
   "cell_type": "code",
   "execution_count": 147,
   "metadata": {
    "collapsed": false
   },
   "outputs": [],
   "source": [
    "time_s=0.3\n",
    "time_t=0.83"
   ]
  },
  {
   "cell_type": "code",
   "execution_count": 148,
   "metadata": {
    "collapsed": true
   },
   "outputs": [],
   "source": [
    "time_t_box=np.zeros(repeat_time)\n",
    "time_s_box=np.zeros(repeat_time)\n",
    "time_ts_box=np.zeros(repeat_time)"
   ]
  },
  {
   "cell_type": "code",
   "execution_count": 149,
   "metadata": {
    "collapsed": false,
    "scrolled": true
   },
   "outputs": [
    {
     "name": "stderr",
     "output_type": "stream",
     "text": [
      "/Users/tamamoon/anaconda/lib/python3.5/site-packages/ipykernel/__main__.py:3: VisibleDeprecationWarning: using a non-integer number instead of an integer will result in an error in the future\n",
      "  app.launch_new_instance()\n",
      "/Users/tamamoon/anaconda/lib/python3.5/site-packages/ipykernel/__main__.py:4: VisibleDeprecationWarning: using a non-integer number instead of an integer will result in an error in the future\n",
      "/Users/tamamoon/anaconda/lib/python3.5/site-packages/ipykernel/__main__.py:5: VisibleDeprecationWarning: using a non-integer number instead of an integer will result in an error in the future\n"
     ]
    },
    {
     "name": "stdout",
     "output_type": "stream",
     "text": [
      "0.291836739753\n",
      "0.521622545708\n"
     ]
    }
   ],
   "source": [
    "for k in range(repeat_time):\n",
    "    many_step = mymodel.many_step(now_position=init)\n",
    "    time_t_box[k]=many_step[0,time_t*div]\n",
    "    time_s_box[k]=many_step[0,time_s*div]\n",
    "    time_ts_box[k]=many_step[0,time_t*div]-many_step[0,time_s*div]\n",
    "var_s=np.var(time_s_box)\n",
    "var_ts=np.var(time_ts_box)\n",
    "print(var_s)\n",
    "print(var_ts)"
   ]
  },
  {
   "cell_type": "code",
   "execution_count": 150,
   "metadata": {
    "collapsed": false
   },
   "outputs": [
    {
     "name": "stdout",
     "output_type": "stream",
     "text": [
      "0.00132252684671\n",
      "0.0065760201579\n"
     ]
    }
   ],
   "source": [
    "mean_s=np.mean(time_s_box)\n",
    "mean_ts=np.mean(time_ts_box)\n",
    "print(mean_s)\n",
    "print(mean_ts)"
   ]
  },
  {
   "cell_type": "markdown",
   "metadata": {
    "collapsed": true
   },
   "source": [
    "# brown motion を確認するための正規分布 であるかの検定\n",
    "アンダーソン　ダーリング検定を用いる\n",
    "\n",
    "方法\n",
    "統計量 $A^2=-n-S $\n",
    "\n",
    "nは標本数、$X_{(i)}$は標本を小さい順に並び替えたもの\n",
    "\n",
    "$$S=\\sum_{i=1}^n \\frac{2i-1}{n}\\bigl\\{\\log(F(X_{(i)}))+\\log(1-F(X_{(n+1-i)}))\\bigr\\}$$\n",
    "\n",
    "この統計量とCV値で比較して検定を行う。\n",
    "\n",
    "有意水準　CV値\n",
    "\n",
    "$15\\% \\cdots 1.610$\n",
    "\n",
    "$10\\% \\cdots 1.933$\n",
    "\n",
    "$5\\% \\cdots 2.492$\n",
    "\n",
    "$2.5\\% \\cdots 3.070$\n",
    "\n",
    "$1.0\\% \\cdots 3.857$"
   ]
  },
  {
   "cell_type": "markdown",
   "metadata": {
    "collapsed": true
   },
   "source": [
    "まずは確率変数を正規化したあと、\n",
    "\n",
    "$S$を計算するために確率変数を小さい順にソートする。\n",
    "\n",
    "今$n$は標本数なので$n=$repeat time"
   ]
  },
  {
   "cell_type": "code",
   "execution_count": 151,
   "metadata": {
    "collapsed": false
   },
   "outputs": [
    {
     "data": {
      "text/plain": [
       "array([[-2.53563768, -2.5177847 , -2.4081139 , ...,  2.35143725,\n",
       "         2.53877826,  3.09853606]])"
      ]
     },
     "execution_count": 151,
     "metadata": {},
     "output_type": "execute_result"
    }
   ],
   "source": [
    "time_ts_box.sort()\n",
    "time_ts_box.reshape(1,repeat_time)\n",
    "#plt.hist(time_ts_box,50)\n",
    "#standard_normal=time_ts_box.reshape(1,repeat_time)/np.sqrt(time_t-time_s)"
   ]
  },
  {
   "cell_type": "code",
   "execution_count": 152,
   "metadata": {
    "collapsed": false
   },
   "outputs": [],
   "source": [
    "cdf_box=np.zeros(repeat_time)\n",
    "for k in range(repeat_time):\n",
    "    cdf_box[k]=norm.cdf(time_ts_box[k],0,np.sqrt(time_t-time_s))"
   ]
  },
  {
   "cell_type": "code",
   "execution_count": 153,
   "metadata": {
    "collapsed": false
   },
   "outputs": [],
   "source": [
    "static_box=np.zeros(repeat_time)\n",
    "for k in range (repeat_time):\n",
    "    static_box[k]=(2*(k+1)-1)/repeat_time*(np.log(cdf_box[k])+np.log(1-cdf_box[repeat_time-1-k]))"
   ]
  },
  {
   "cell_type": "code",
   "execution_count": null,
   "metadata": {
    "collapsed": false
   },
   "outputs": [],
   "source": []
  },
  {
   "cell_type": "code",
   "execution_count": 154,
   "metadata": {
    "collapsed": false
   },
   "outputs": [
    {
     "data": {
      "text/plain": [
       "0.78116070561372908"
      ]
     },
     "execution_count": 154,
     "metadata": {},
     "output_type": "execute_result"
    }
   ],
   "source": [
    "A=-repeat_time-sum(static_box)\n",
    "A"
   ]
  },
  {
   "cell_type": "code",
   "execution_count": 155,
   "metadata": {
    "collapsed": false
   },
   "outputs": [
    {
     "data": {
      "text/plain": [
       "-1.0000781160705552"
      ]
     },
     "execution_count": 155,
     "metadata": {},
     "output_type": "execute_result"
    }
   ],
   "source": [
    "np.mean(static_box)"
   ]
  },
  {
   "cell_type": "code",
   "execution_count": 156,
   "metadata": {
    "collapsed": false
   },
   "outputs": [
    {
     "data": {
      "text/plain": [
       "0.18579398495572241"
      ]
     },
     "execution_count": 156,
     "metadata": {},
     "output_type": "execute_result"
    }
   ],
   "source": [
    "np.var(static_box)"
   ]
  },
  {
   "cell_type": "code",
   "execution_count": 157,
   "metadata": {
    "collapsed": false
   },
   "outputs": [
    {
     "data": {
      "text/plain": [
       "0.18581256621234366"
      ]
     },
     "execution_count": 157,
     "metadata": {},
     "output_type": "execute_result"
    }
   ],
   "source": [
    "np.var(static_box,ddof=1)"
   ]
  },
  {
   "cell_type": "code",
   "execution_count": null,
   "metadata": {
    "collapsed": true
   },
   "outputs": [],
   "source": []
  },
  {
   "cell_type": "code",
   "execution_count": null,
   "metadata": {
    "collapsed": true
   },
   "outputs": [],
   "source": []
  },
  {
   "cell_type": "code",
   "execution_count": null,
   "metadata": {
    "collapsed": true
   },
   "outputs": [],
   "source": []
  },
  {
   "cell_type": "code",
   "execution_count": 104,
   "metadata": {
    "collapsed": false
   },
   "outputs": [
    {
     "name": "stdout",
     "output_type": "stream",
     "text": [
      "0.274302692716\n"
     ]
    }
   ],
   "source": [
    "number=int(repeat_time)\n",
    "S=0\n",
    "for k in range(number):\n",
    "    S=S+(2*(k+1)-1)/number*(np.log(norm.cdf(x=time_ts_box[k], loc=0, scale=np.sqrt(time_t-time_s)))+np.log(1-norm.cdf(x=time_ts_box[repeat_time-1-k], loc=0, scale=np.sqrt(time_t-time_s))))              \n",
    "A=-repeat_time-S\n",
    "print(A)"
   ]
  },
  {
   "cell_type": "code",
   "execution_count": null,
   "metadata": {
    "collapsed": false
   },
   "outputs": [],
   "source": []
  },
  {
   "cell_type": "markdown",
   "metadata": {
    "collapsed": true
   },
   "source": []
  },
  {
   "cell_type": "code",
   "execution_count": null,
   "metadata": {
    "collapsed": false
   },
   "outputs": [],
   "source": []
  },
  {
   "cell_type": "code",
   "execution_count": null,
   "metadata": {
    "collapsed": true
   },
   "outputs": [],
   "source": []
  },
  {
   "cell_type": "code",
   "execution_count": null,
   "metadata": {
    "collapsed": true
   },
   "outputs": [],
   "source": []
  }
 ],
 "metadata": {
  "anaconda-cloud": {},
  "kernelspec": {
   "display_name": "Python [Root]",
   "language": "python",
   "name": "Python [Root]"
  },
  "language_info": {
   "codemirror_mode": {
    "name": "ipython",
    "version": 3
   },
   "file_extension": ".py",
   "mimetype": "text/x-python",
   "name": "python",
   "nbconvert_exporter": "python",
   "pygments_lexer": "ipython3",
   "version": "3.5.2"
  }
 },
 "nbformat": 4,
 "nbformat_minor": 0
}
