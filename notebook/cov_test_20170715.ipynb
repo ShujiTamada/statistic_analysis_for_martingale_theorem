{
 "cells": [
  {
   "cell_type": "code",
   "execution_count": 2,
   "metadata": {
    "collapsed": false
   },
   "outputs": [
    {
     "data": {
      "text/plain": [
       "<module 'util' from '../src/util.py'>"
      ]
     },
     "execution_count": 2,
     "metadata": {},
     "output_type": "execute_result"
    }
   ],
   "source": [
    "import sys\n",
    "sys.path.append(\"../src\") \n",
    "sys.path.append(\"../data\") \n",
    "\n",
    "\n",
    "import SDE_class as sde\n",
    "import importlib\n",
    "importlib.reload(sde)\n",
    "import numpy as np\n",
    "from matplotlib import pyplot as plt\n",
    "%matplotlib inline\n",
    "import util as util\n",
    "importlib.reload(util)"
   ]
  },
  {
   "cell_type": "code",
   "execution_count": 3,
   "metadata": {
    "collapsed": true
   },
   "outputs": [],
   "source": [
    "term=5\n",
    "step=1\n",
    "init=np.array([0.])\n",
    "repeat_number=1"
   ]
  },
  {
   "cell_type": "code",
   "execution_count": 4,
   "metadata": {
    "collapsed": true
   },
   "outputs": [],
   "source": [
    "mymodel = sde.SDE_Markov(mymat=np.array([[0.]]), myvar =np.array([[1.]]),myinit=np.array([1.]),myscale=1.,myterm=term,step_size=step)"
   ]
  },
  {
   "cell_type": "code",
   "execution_count": 5,
   "metadata": {
    "collapsed": false
   },
   "outputs": [
    {
     "data": {
      "text/plain": [
       "array([[ 0.        ],\n",
       "       [ 1.14891579],\n",
       "       [-0.57560832],\n",
       "       [-1.20727503],\n",
       "       [-1.34231262],\n",
       "       [ 0.12432216]])"
      ]
     },
     "execution_count": 5,
     "metadata": {},
     "output_type": "execute_result"
    }
   ],
   "source": [
    "mymodel.many_step(init).reshape(term+1,1)"
   ]
  },
  {
   "cell_type": "code",
   "execution_count": 6,
   "metadata": {
    "collapsed": true
   },
   "outputs": [],
   "source": [
    "for k in range(repeat_number):\n",
    "    mymodel.many_step(init)"
   ]
  },
  {
   "cell_type": "code",
   "execution_count": null,
   "metadata": {
    "collapsed": true
   },
   "outputs": [],
   "source": []
  },
  {
   "cell_type": "code",
   "execution_count": null,
   "metadata": {
    "collapsed": true
   },
   "outputs": [],
   "source": []
  },
  {
   "cell_type": "code",
   "execution_count": null,
   "metadata": {
    "collapsed": true
   },
   "outputs": [],
   "source": []
  },
  {
   "cell_type": "code",
   "execution_count": null,
   "metadata": {
    "collapsed": true
   },
   "outputs": [],
   "source": []
  },
  {
   "cell_type": "code",
   "execution_count": 7,
   "metadata": {
    "collapsed": false
   },
   "outputs": [],
   "source": [
    "term=7\n",
    "step=1\n",
    "now_position=np.array([0.])\n",
    "repeat_number=30000\n",
    "matrix=np.zeros([term+1,repeat_number+1])\n",
    "\n",
    "for j in range(repeat_number):\n",
    "    now_position=np.array([0])\n",
    "    for k in range(term):\n",
    "        new_position = mymodel.one_step(now_position)\n",
    "        matrix[k+1,j+1]=new_position\n",
    "        now_position = new_position\n",
    "#print(matrix)"
   ]
  },
  {
   "cell_type": "code",
   "execution_count": 8,
   "metadata": {
    "collapsed": false
   },
   "outputs": [
    {
     "name": "stdout",
     "output_type": "stream",
     "text": [
      "[[ 0.          0.          0.          0.          0.          0.          0.\n",
      "   0.        ]\n",
      " [ 0.          0.9996958   0.99864482  1.00151009  1.00293388  1.00037794\n",
      "   0.98940911  0.99364757]\n",
      " [ 0.          0.99864482  2.00920147  2.01481385  2.012429    2.01130223\n",
      "   2.00031305  2.00187237]\n",
      " [ 0.          1.00151009  2.01481385  3.03525033  3.0350221   3.03812328\n",
      "   3.03240508  3.02534188]\n",
      " [ 0.          1.00293388  2.012429    3.0350221   4.04035687  4.04966571\n",
      "   4.04636753  4.04439047]\n",
      " [ 0.          1.00037794  2.01130223  3.03812328  4.04966571  5.06476348\n",
      "   5.05584762  5.0597828 ]\n",
      " [ 0.          0.98940911  2.00031305  3.03240508  4.04636753  5.05584762\n",
      "   6.04484768  6.04875565]\n",
      " [ 0.          0.99364757  2.00187237  3.02534188  4.04439047  5.0597828\n",
      "   6.04875565  7.054016  ]]\n"
     ]
    }
   ],
   "source": [
    "cov_matrix=np.zeros([term+1,term+1])\n",
    "for j in range(term+1):\n",
    "    for k in range(term+1):\n",
    "        mean_j=np.mean(matrix[j,:])\n",
    "        mean_k=np.mean(matrix[k,:])\n",
    "        mean_jk=(np.dot(matrix[j,:],matrix[k,:]))/repeat_number\n",
    "        cov=mean_jk-mean_k*mean_j\n",
    "        cov_matrix[j,k]=cov\n",
    "print(cov_matrix)\n"
   ]
  },
  {
   "cell_type": "code",
   "execution_count": 9,
   "metadata": {
    "collapsed": false
   },
   "outputs": [
    {
     "data": {
      "text/plain": [
       "<matplotlib.image.AxesImage at 0x10f7cf198>"
      ]
     },
     "execution_count": 9,
     "metadata": {},
     "output_type": "execute_result"
    },
    {
     "data": {
      "image/png": "[encoded data removed]",
      "text/plain": [
       "<matplotlib.figure.Figure at 0x10d1c3fd0>"
      ]
     },
     "metadata": {},
     "output_type": "display_data"
    }
   ],
   "source": [
    "plt.imshow(cov_matrix, interpolation = \"None\")"
   ]
  },
  {
   "cell_type": "code",
   "execution_count": null,
   "metadata": {
    "collapsed": false
   },
   "outputs": [],
   "source": []
  },
  {
   "cell_type": "code",
   "execution_count": null,
   "metadata": {
    "collapsed": true
   },
   "outputs": [],
   "source": []
  },
  {
   "cell_type": "code",
   "execution_count": 10,
   "metadata": {
    "collapsed": false
   },
   "outputs": [
    {
     "data": {
      "text/plain": [
       "array([[ 3.66536613]])"
      ]
     },
     "execution_count": 10,
     "metadata": {},
     "output_type": "execute_result"
    }
   ],
   "source": [
    "now_position"
   ]
  },
  {
   "cell_type": "code",
   "execution_count": 11,
   "metadata": {
    "collapsed": false
   },
   "outputs": [
    {
     "name": "stdout",
     "output_type": "stream",
     "text": [
      "[[ 2.53293753]]\n",
      "[[ 4.04505599]]\n",
      "[[ 4.01231999]]\n",
      "[[ 2.49134332]]\n",
      "[[ 4.03649249]]\n",
      "[[ 4.36243206]]\n",
      "[[ 4.79885427]]\n"
     ]
    }
   ],
   "source": [
    "for k in range(term):\n",
    "    new_position = mymodel.one_step(now_position)\n",
    "    print(new_position)\n",
    "    #matrix[k+1,j]=new_position\n",
    "    #now_position = new_position"
   ]
  },
  {
   "cell_type": "code",
   "execution_count": 12,
   "metadata": {
    "collapsed": false
   },
   "outputs": [
    {
     "data": {
      "text/plain": [
       "array([[ 0.,  0.],\n",
       "       [ 0.,  0.],\n",
       "       [ 0.,  0.]])"
      ]
     },
     "execution_count": 12,
     "metadata": {},
     "output_type": "execute_result"
    }
   ],
   "source": [
    "np.zeros([3,2])"
   ]
  },
  {
   "cell_type": "code",
   "execution_count": null,
   "metadata": {
    "collapsed": true
   },
   "outputs": [],
   "source": []
  },
  {
   "cell_type": "code",
   "execution_count": null,
   "metadata": {
    "collapsed": true
   },
   "outputs": [],
   "source": []
  }
 ],
 "metadata": {
  "anaconda-cloud": {},
  "kernelspec": {
   "display_name": "Python [Root]",
   "language": "python",
   "name": "Python [Root]"
  },
  "language_info": {
   "codemirror_mode": {
    "name": "ipython",
    "version": 3
   },
   "file_extension": ".py",
   "mimetype": "text/x-python",
   "name": "python",
   "nbconvert_exporter": "python",
   "pygments_lexer": "ipython3",
   "version": "3.5.2"
  }
 },
 "nbformat": 4,
 "nbformat_minor": 0
}
