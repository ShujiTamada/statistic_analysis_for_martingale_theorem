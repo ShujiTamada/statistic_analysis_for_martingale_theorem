{
 "cells": [
  {
   "cell_type": "code",
   "execution_count": 1,
   "metadata": {
    "collapsed": false
   },
   "outputs": [
    {
     "data": {
      "text/plain": [
       "<module 'util' from '../src/util.py'>"
      ]
     },
     "execution_count": 1,
     "metadata": {},
     "output_type": "execute_result"
    }
   ],
   "source": [
    "import sys\n",
    "sys.path.append(\"../src\") \n",
    "sys.path.append(\"../data\") \n",
    "\n",
    "\n",
    "import SDE_class as sde\n",
    "import importlib\n",
    "importlib.reload(sde)\n",
    "import numpy as np\n",
    "from matplotlib import pyplot as plt\n",
    "%matplotlib inline\n",
    "import util as util\n",
    "importlib.reload(util)"
   ]
  },
  {
   "cell_type": "code",
   "execution_count": 2,
   "metadata": {
    "collapsed": true
   },
   "outputs": [],
   "source": [
    "term=5\n",
    "step=1\n",
    "init=np.array([0.])\n",
    "repeat_number=1"
   ]
  },
  {
   "cell_type": "code",
   "execution_count": 3,
   "metadata": {
    "collapsed": true
   },
   "outputs": [],
   "source": [
    "mymodel = sde.SDE_Markov(mymat=np.array([[0.]]), myvar =np.array([[1.]]),myinit=np.array([1.]),myscale=1.,myterm=term,step_size=step)"
   ]
  },
  {
   "cell_type": "code",
   "execution_count": 5,
   "metadata": {
    "collapsed": false
   },
   "outputs": [],
   "source": [
    "term=7\n",
    "step=1\n",
    "now_position=np.array([0.])\n",
    "repeat_number=30000\n",
    "matrix=np.zeros([term+1,repeat_number+1])\n",
    "\n",
    "for j in range(repeat_number):\n",
    "    now_position=np.array([0])\n",
    "    for k in range(term):\n",
    "        new_position = mymodel.one_step(now_position)\n",
    "        matrix[k+1,j+1]=new_position\n",
    "        now_position = new_position\n",
    "#print(matrix)"
   ]
  },
  {
   "cell_type": "code",
   "execution_count": 6,
   "metadata": {
    "collapsed": false
   },
   "outputs": [
    {
     "name": "stdout",
     "output_type": "stream",
     "text": [
      "[[ 0.          0.          0.          0.          0.          0.          0.\n",
      "   0.        ]\n",
      " [ 0.          0.99785457  1.00038655  1.00402894  1.00634399  1.00006431\n",
      "   1.0036511   0.9979836 ]\n",
      " [ 0.          1.00038655  2.00163921  2.00396599  2.00554407  1.98990788\n",
      "   1.99217738  1.98480251]\n",
      " [ 0.          1.00402894  2.00396599  3.00858393  2.99517715  2.98010544\n",
      "   2.97925248  2.9638617 ]\n",
      " [ 0.          1.00634399  2.00554407  2.99517715  3.97746197  3.95705978\n",
      "   3.95609215  3.93998333]\n",
      " [ 0.          1.00006431  1.98990788  2.98010544  3.95705978  4.93636437\n",
      "   4.9339841   4.91997994]\n",
      " [ 0.          1.0036511   1.99217738  2.97925248  3.95609215  4.9339841\n",
      "   5.93161625  5.92273135]\n",
      " [ 0.          0.9979836   1.98480251  2.9638617   3.93998333  4.91997994\n",
      "   5.92273135  6.91322559]]\n"
     ]
    }
   ],
   "source": [
    "cov_matrix=np.zeros([term+1,term+1])\n",
    "for j in range(term+1):\n",
    "    for k in range(term+1):\n",
    "        mean_j=np.mean(matrix[j,:])\n",
    "        mean_k=np.mean(matrix[k,:])\n",
    "        mean_jk=(np.dot(matrix[j,:],matrix[k,:]))/repeat_number\n",
    "        cov=mean_jk-mean_k*mean_j\n",
    "        cov_matrix[j,k]=cov\n",
    "print(cov_matrix)\n"
   ]
  },
  {
   "cell_type": "code",
   "execution_count": 7,
   "metadata": {
    "collapsed": false
   },
   "outputs": [
    {
     "data": {
      "text/plain": [
       "<matplotlib.image.AxesImage at 0x10f7b1b70>"
      ]
     },
     "execution_count": 7,
     "metadata": {},
     "output_type": "execute_result"
    },
    {
     "data": {
      "image/png": "[encoded data removed]",
      "text/plain": [
       "<matplotlib.figure.Figure at 0x10d1a6668>"
      ]
     },
     "metadata": {},
     "output_type": "display_data"
    }
   ],
   "source": [
    "plt.imshow(cov_matrix, interpolation = \"None\")"
   ]
  },
  {
   "cell_type": "code",
   "execution_count": null,
   "metadata": {
    "collapsed": false
   },
   "outputs": [],
   "source": []
  },
  {
   "cell_type": "code",
   "execution_count": null,
   "metadata": {
    "collapsed": true
   },
   "outputs": [],
   "source": []
  },
  {
   "cell_type": "code",
   "execution_count": null,
   "metadata": {
    "collapsed": true
   },
   "outputs": [],
   "source": []
  },
  {
   "cell_type": "code",
   "execution_count": null,
   "metadata": {
    "collapsed": true
   },
   "outputs": [],
   "source": []
  }
 ],
 "metadata": {
  "anaconda-cloud": {},
  "kernelspec": {
   "display_name": "Python [Root]",
   "language": "python",
   "name": "Python [Root]"
  },
  "language_info": {
   "codemirror_mode": {
    "name": "ipython",
    "version": 3
   },
   "file_extension": ".py",
   "mimetype": "text/x-python",
   "name": "python",
   "nbconvert_exporter": "python",
   "pygments_lexer": "ipython3",
   "version": "3.5.2"
  }
 },
 "nbformat": 4,
 "nbformat_minor": 0
}
