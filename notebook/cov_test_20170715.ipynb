{
 "cells": [
  {
   "cell_type": "code",
   "execution_count": 2,
   "metadata": {
    "collapsed": false
   },
   "outputs": [
    {
     "data": {
      "text/plain": [
       "<module 'util' from '../src/util.py'>"
      ]
     },
     "execution_count": 2,
     "metadata": {},
     "output_type": "execute_result"
    }
   ],
   "source": [
    "import sys\n",
    "sys.path.append(\"../src\") \n",
    "sys.path.append(\"../data\") \n",
    "\n",
    "\n",
    "import SDE_class as sde\n",
    "import importlib\n",
    "importlib.reload(sde)\n",
    "import numpy as np\n",
    "from matplotlib import pyplot as plt\n",
    "%matplotlib inline\n",
    "import util as util\n",
    "importlib.reload(util)"
   ]
  },
  {
   "cell_type": "code",
   "execution_count": 3,
   "metadata": {
    "collapsed": true
   },
   "outputs": [],
   "source": [
    "term=5\n",
    "step=1\n",
    "init=np.array([0.])\n",
    "repeat_number=1"
   ]
  },
  {
   "cell_type": "code",
   "execution_count": 4,
   "metadata": {
    "collapsed": true
   },
   "outputs": [],
   "source": [
    "mymodel = sde.SDE_Markov(mymat=np.array([[0.]]), myvar =np.array([[1.]]),myinit=np.array([1.]),myscale=1.,myterm=term,step_size=step)"
   ]
  },
  {
   "cell_type": "code",
   "execution_count": 5,
   "metadata": {
    "collapsed": false
   },
   "outputs": [
    {
     "data": {
      "text/plain": [
       "array([[ 0.        ],\n",
       "       [ 1.19797781],\n",
       "       [ 2.00190443],\n",
       "       [ 0.35257266],\n",
       "       [-0.03439828],\n",
       "       [-1.44636   ]])"
      ]
     },
     "execution_count": 5,
     "metadata": {},
     "output_type": "execute_result"
    }
   ],
   "source": [
    "mymodel.many_step(init).reshape(term+1,1)"
   ]
  },
  {
   "cell_type": "code",
   "execution_count": 6,
   "metadata": {
    "collapsed": true
   },
   "outputs": [],
   "source": [
    "for k in range(repeat_number):\n",
    "    mymodel.many_step(init)"
   ]
  },
  {
   "cell_type": "code",
   "execution_count": null,
   "metadata": {
    "collapsed": true
   },
   "outputs": [],
   "source": []
  },
  {
   "cell_type": "code",
   "execution_count": null,
   "metadata": {
    "collapsed": true
   },
   "outputs": [],
   "source": []
  },
  {
   "cell_type": "code",
   "execution_count": null,
   "metadata": {
    "collapsed": true
   },
   "outputs": [],
   "source": []
  },
  {
   "cell_type": "code",
   "execution_count": null,
   "metadata": {
    "collapsed": true
   },
   "outputs": [],
   "source": []
  },
  {
   "cell_type": "code",
   "execution_count": 32,
   "metadata": {
    "collapsed": false
   },
   "outputs": [],
   "source": [
    "term=7\n",
    "step=1\n",
    "now_position=np.array([0.])\n",
    "repeat_number=30000\n",
    "matrix=np.zeros([term+1,repeat_number+1])\n",
    "\n",
    "for j in range(repeat_number):\n",
    "    now_position=np.array([0])\n",
    "    for k in range(term):\n",
    "        new_position = mymodel.one_step(now_position)\n",
    "        matrix[k+1,j+1]=new_position\n",
    "        now_position = new_position\n",
    "#print(matrix)"
   ]
  },
  {
   "cell_type": "code",
   "execution_count": 33,
   "metadata": {
    "collapsed": false
   },
   "outputs": [
    {
     "name": "stdout",
     "output_type": "stream",
     "text": [
      "[[ 0.          0.          0.          0.          0.          0.          0.\n",
      "   0.        ]\n",
      " [ 0.          1.00088196  1.00038057  0.99453995  0.99936359  1.0032353\n",
      "   1.00096737  1.00553518]\n",
      " [ 0.          1.00038057  1.98830707  1.97758233  1.98508125  1.98370135\n",
      "   1.97418341  1.98073004]\n",
      " [ 0.          0.99453995  1.97758233  2.95989287  2.97121539  2.97140943\n",
      "   2.95623422  2.95720394]\n",
      " [ 0.          0.99936359  1.98508125  2.97121539  3.98413461  3.99068042\n",
      "   3.96676248  3.95369058]\n",
      " [ 0.          1.0032353   1.98370135  2.97140943  3.99068042  5.01114755\n",
      "   4.98972584  4.98808267]\n",
      " [ 0.          1.00096737  1.97418341  2.95623422  3.96676248  4.98972584\n",
      "   5.98001928  5.98215738]\n",
      " [ 0.          1.00553518  1.98073004  2.95720394  3.95369058  4.98808267\n",
      "   5.98215738  6.98497843]]\n"
     ]
    }
   ],
   "source": [
    "cov_matrix=np.zeros([term+1,term+1])\n",
    "for j in range(term+1):\n",
    "    for k in range(term+1):\n",
    "        mean_j=np.mean(matrix[j,:])\n",
    "        mean_k=np.mean(matrix[k,:])\n",
    "        mean_jk=(np.dot(matrix[j,:],matrix[k,:]))/repeat_number\n",
    "        cov=mean_jk-mean_k*mean_j\n",
    "        cov_matrix[j,k]=cov\n",
    "print(cov_matrix)"
   ]
  },
  {
   "cell_type": "code",
   "execution_count": null,
   "metadata": {
    "collapsed": false
   },
   "outputs": [],
   "source": []
  },
  {
   "cell_type": "code",
   "execution_count": null,
   "metadata": {
    "collapsed": false
   },
   "outputs": [],
   "source": []
  },
  {
   "cell_type": "code",
   "execution_count": null,
   "metadata": {
    "collapsed": true
   },
   "outputs": [],
   "source": []
  },
  {
   "cell_type": "code",
   "execution_count": 59,
   "metadata": {
    "collapsed": false
   },
   "outputs": [
    {
     "data": {
      "text/plain": [
       "array([[-152.47358251]])"
      ]
     },
     "execution_count": 59,
     "metadata": {},
     "output_type": "execute_result"
    }
   ],
   "source": [
    "now_position"
   ]
  },
  {
   "cell_type": "code",
   "execution_count": 57,
   "metadata": {
    "collapsed": false
   },
   "outputs": [
    {
     "name": "stdout",
     "output_type": "stream",
     "text": [
      "[[-152.08464772]]\n",
      "[[-150.73426813]]\n",
      "[[-151.70404972]]\n",
      "[[-150.10204888]]\n",
      "[[-151.68904373]]\n"
     ]
    }
   ],
   "source": [
    "for k in range(term):\n",
    "    new_position = mymodel.one_step(now_position)\n",
    "    print(new_position)\n",
    "    #matrix[k+1,j]=new_position\n",
    "    #now_position = new_position"
   ]
  },
  {
   "cell_type": "code",
   "execution_count": null,
   "metadata": {
    "collapsed": true
   },
   "outputs": [],
   "source": []
  }
 ],
 "metadata": {
  "anaconda-cloud": {},
  "kernelspec": {
   "display_name": "Python [Root]",
   "language": "python",
   "name": "Python [Root]"
  },
  "language_info": {
   "codemirror_mode": {
    "name": "ipython",
    "version": 3
   },
   "file_extension": ".py",
   "mimetype": "text/x-python",
   "name": "python",
   "nbconvert_exporter": "python",
   "pygments_lexer": "ipython3",
   "version": "3.5.2"
  }
 },
 "nbformat": 4,
 "nbformat_minor": 0
}
